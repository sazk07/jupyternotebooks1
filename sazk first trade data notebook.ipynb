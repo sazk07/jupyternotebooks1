{
    "cells": [
        {
            "cell_type": "markdown",
            "metadata": {},
            "source": "# Description\nThis code visualizes trade data"
        },
        {
            "cell_type": "code",
            "execution_count": 2,
            "metadata": {},
            "outputs": [
                {
                    "data": {
                        "text/html": "<div>\n<style scoped>\n    .dataframe tbody tr th:only-of-type {\n        vertical-align: middle;\n    }\n\n    .dataframe tbody tr th {\n        vertical-align: top;\n    }\n\n    .dataframe thead th {\n        text-align: right;\n    }\n</style>\n<table border=\"1\" class=\"dataframe\">\n  <thead>\n    <tr style=\"text-align: right;\">\n      <th></th>\n      <th>year</th>\n      <th>hs code</th>\n      <th>hs description</th>\n      <th>eu from pk</th>\n      <th>eu from world</th>\n      <th>pk to world</th>\n    </tr>\n  </thead>\n  <tbody>\n    <tr>\n      <th>0</th>\n      <td>2014</td>\n      <td>'030621</td>\n      <td>Rock lobster and other sea crawfish \"Palinurus...</td>\n      <td>0.0</td>\n      <td>37.072</td>\n      <td>0.382</td>\n    </tr>\n    <tr>\n      <th>1</th>\n      <td>2014</td>\n      <td>'030624</td>\n      <td>Crabs, even smoked, whether in shell or not, l...</td>\n      <td>0.0</td>\n      <td>98.031</td>\n      <td>6.878</td>\n    </tr>\n    <tr>\n      <th>2</th>\n      <td>2014</td>\n      <td>'030629</td>\n      <td>Crustaceans, even smoked, fit for human consum...</td>\n      <td>0.0</td>\n      <td>74.268</td>\n      <td>0.202</td>\n    </tr>\n    <tr>\n      <th>3</th>\n      <td>2014</td>\n      <td>'291470</td>\n      <td>Halogenated, sulphonated, nitrated or nitrosat...</td>\n      <td>0.0</td>\n      <td>216.786</td>\n      <td>0.000</td>\n    </tr>\n    <tr>\n      <th>4</th>\n      <td>2014</td>\n      <td>'292213</td>\n      <td>Triethanolamine and its salts</td>\n      <td>0.0</td>\n      <td>183.952</td>\n      <td>0.017</td>\n    </tr>\n  </tbody>\n</table>\n</div>",
                        "text/plain": "   year  hs code                                     hs description  \\\n0  2014  '030621  Rock lobster and other sea crawfish \"Palinurus...   \n1  2014  '030624  Crabs, even smoked, whether in shell or not, l...   \n2  2014  '030629  Crustaceans, even smoked, fit for human consum...   \n3  2014  '291470  Halogenated, sulphonated, nitrated or nitrosat...   \n4  2014  '292213                      Triethanolamine and its salts   \n\n   eu from pk  eu from world  pk to world  \n0         0.0         37.072        0.382  \n1         0.0         98.031        6.878  \n2         0.0         74.268        0.202  \n3         0.0        216.786        0.000  \n4         0.0        183.952        0.017  "
                    },
                    "execution_count": 2,
                    "metadata": {},
                    "output_type": "execute_result"
                }
            ],
            "source": "# The code was removed by Watson Studio for sharing."
        },
        {
            "cell_type": "code",
            "execution_count": null,
            "metadata": {},
            "outputs": [],
            "source": ""
        }
    ],
    "metadata": {
        "kernelspec": {
            "display_name": "Python 3.6",
            "language": "python",
            "name": "python3"
        },
        "language_info": {
            "codemirror_mode": {
                "name": "ipython",
                "version": 3
            },
            "file_extension": ".py",
            "mimetype": "text/x-python",
            "name": "python",
            "nbconvert_exporter": "python",
            "pygments_lexer": "ipython3",
            "version": "3.6.9"
        }
    },
    "nbformat": 4,
    "nbformat_minor": 1
}